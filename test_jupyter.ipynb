{
 "cells": [
  {
   "cell_type": "code",
   "execution_count": 1,
   "metadata": {},
   "outputs": [],
   "source": [
    "from tkinter.filedialog import askopenfilenames, askdirectory\n",
    "from tkinter import Tk\n",
    "\n",
    "root = Tk()\n",
    "root.lift()\n",
    "root.attributes(\"-topmost\",True)\n",
    "root.withdraw()\n",
    "root.title(\"The Title Of the Box\")\n",
    "\n",
    "files = askopenfilenames(parent=root,\n",
    "                         initialdir = \"../Py_Input/\")\n",
    "root.destroy()"
   ]
  },
  {
   "cell_type": "code",
   "execution_count": null,
   "metadata": {},
   "outputs": [],
   "source": []
  }
 ],
 "metadata": {
  "kernelspec": {
   "display_name": "Python 3",
   "language": "python",
   "name": "python3"
  },
  "language_info": {
   "codemirror_mode": {
    "name": "ipython",
    "version": 3
   },
   "file_extension": ".py",
   "mimetype": "text/x-python",
   "name": "python",
   "nbconvert_exporter": "python",
   "pygments_lexer": "ipython3",
   "version": "3.8.3"
  }
 },
 "nbformat": 4,
 "nbformat_minor": 4
}
